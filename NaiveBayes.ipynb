{
 "cells": [
  {
   "cell_type": "code",
   "execution_count": 3,
   "metadata": {},
   "outputs": [],
   "source": [
    "import numpy as np\n",
    "\n",
    "class NaiveBayesClassifier:\n",
    "    def fit(self, X, y):\n",
    "        # Calculate class priors\n",
    "        self.class_priors = {c: np.mean(y == c) for c in np.unique(y)}\n",
    "\n",
    "        # Calculate mean and variance vectors for each class\n",
    "        self.mean_vectors = {}\n",
    "        self.var_vectors = {}\n",
    "        for c in np.unique(y):\n",
    "            X_c = X[y == c]\n",
    "            self.mean_vectors[c] = np.mean(X_c, axis=0)\n",
    "            self.var_vectors[c] = np.var(X_c, axis=0, ddof=1)\n",
    "\n",
    "        # Convert the dictionaries to arrays\n",
    "        self.classes = np.array(list(self.class_priors.keys()))\n",
    "        n_classes = len(self.classes)\n",
    "        self.mean = np.array([self.mean_vectors[c] for c in self.classes])\n",
    "        self.var = np.array([self.var_vectors[c] for c in self.classes])\n",
    "        self.priors = np.array([self.class_priors[c] for c in self.classes])\n",
    "\n",
    "    def predict(self, X):\n",
    "        predictions = []\n",
    "        for x in X:\n",
    "            class_probs = []\n",
    "            for idx, c in enumerate(self.classes):\n",
    "                mean_vector = self.mean[idx, :]\n",
    "                var_vector = self.var[idx, :]\n",
    "\n",
    "                # Standardize the test instance using the mean and variance vectors\n",
    "                x_standardized = (x - mean_vector) / np.sqrt(var_vector)\n",
    "\n",
    "                log_likelihood = np.sum(\n",
    "                    -0.5 * np.log(2 * np.pi * var_vector)\n",
    "                    - 0.5 * ((x_standardized - mean_vector) ** 2) / var_vector\n",
    "                )\n",
    "#                 Na tsekarw an einai o swstos ypologismos toy log_likelihood\n",
    "                class_probs.append(np.log(self.priors[idx]) + log_likelihood)\n",
    "\n",
    "            predictions.append(self.classes[np.argmax(class_probs)])\n",
    "\n",
    "        return np.array(predictions)\n"
   ]
  },
  {
   "cell_type": "code",
   "execution_count": 10,
   "metadata": {},
   "outputs": [
    {
     "name": "stdout",
     "output_type": "stream",
     "text": [
      "Accuracy: 0.93\n",
      "Classification Report:\n",
      "               precision    recall  f1-score   support\n",
      "\n",
      "           0       1.00      0.80      0.89        10\n",
      "           1       0.82      1.00      0.90         9\n",
      "           2       1.00      1.00      1.00        11\n",
      "\n",
      "    accuracy                           0.93        30\n",
      "   macro avg       0.94      0.93      0.93        30\n",
      "weighted avg       0.95      0.93      0.93        30\n",
      "\n"
     ]
    }
   ],
   "source": [
    "from sklearn.model_selection import train_test_split\n",
    "from sklearn.datasets import load_iris\n",
    "from sklearn.metrics import accuracy_score, classification_report\n",
    "from sklearn.preprocessing import StandardScaler\n",
    "from sklearn.naive_bayes import GaussianNB\n",
    "\n",
    "# Load the Iris dataset\n",
    "wine = load_iris()\n",
    "X, y = wine.data, wine.target\n",
    "\n",
    "# Split the dataset into training and testing sets\n",
    "X_train, X_test, y_train, y_test = train_test_split(X, y, test_size=0.2, random_state=42)\n",
    "\n",
    "# Standardize features (optional but can be beneficial for Naive Bayes)\n",
    "scaler = StandardScaler()\n",
    "X_train = scaler.fit_transform(X_train)\n",
    "X_test = scaler.transform(X_test)\n",
    "\n",
    "# Create and fit the Naive Bayes classifier\n",
    "nb_classifier = NaiveBayesClassifier()\n",
    "nb_classifier.fit(X_train, y_train)\n",
    "\n",
    "# Make predictions on the test set\n",
    "y_pred = nb_classifier.predict(X_test)\n",
    "\n",
    "# Calculate and print accuracy\n",
    "accuracy = accuracy_score(y_test, y_pred)\n",
    "print(f\"Accuracy: {accuracy:.2f}\")\n",
    "\n",
    "# Print classification report\n",
    "report = classification_report(y_test, y_pred)\n",
    "print(\"Classification Report:\\n\", report)\n"
   ]
  },
  {
   "cell_type": "code",
   "execution_count": 11,
   "metadata": {},
   "outputs": [
    {
     "name": "stdout",
     "output_type": "stream",
     "text": [
      "scikit-learn Naive Bayes Accuracy: 1.00\n",
      "scikit-learn Naive Bayes Classification Report:\n",
      "               precision    recall  f1-score   support\n",
      "\n",
      "           0       1.00      1.00      1.00        10\n",
      "           1       1.00      1.00      1.00         9\n",
      "           2       1.00      1.00      1.00        11\n",
      "\n",
      "    accuracy                           1.00        30\n",
      "   macro avg       1.00      1.00      1.00        30\n",
      "weighted avg       1.00      1.00      1.00        30\n",
      "\n"
     ]
    }
   ],
   "source": [
    "# # Create and fit the scikit-learn Gaussian Naive Bayes classifier\n",
    "# nb_classifier_sklearn = GaussianNB()\n",
    "# nb_classifier_sklearn.fit(X_train, y_train)\n",
    "\n",
    "# # Make predictions using the scikit-learn Naive Bayes classifier on the test set\n",
    "# y_pred_sklearn = nb_classifier_sklearn.predict(X_test)\n",
    "\n",
    "# # Calculate and print accuracy for the scikit-learn classifier\n",
    "# accuracy_sklearn = accuracy_score(y_test, y_pred_sklearn)\n",
    "# print(f\"scikit-learn Naive Bayes Accuracy: {accuracy_sklearn:.2f}\")\n",
    "\n",
    "# # Print classification report for the scikit-learn classifier\n",
    "# report_sklearn = classification_report(y_test, y_pred_sklearn)\n",
    "# print(\"scikit-learn Naive Bayes Classification Report:\\n\", report_sklearn)"
   ]
  }
 ],
 "metadata": {
  "kernelspec": {
   "display_name": "base",
   "language": "python",
   "name": "python3"
  },
  "language_info": {
   "codemirror_mode": {
    "name": "ipython",
    "version": 3
   },
   "file_extension": ".py",
   "mimetype": "text/x-python",
   "name": "python",
   "nbconvert_exporter": "python",
   "pygments_lexer": "ipython3",
   "version": "3.11.5"
  }
 },
 "nbformat": 4,
 "nbformat_minor": 2
}

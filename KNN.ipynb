{
 "cells": [
  {
   "cell_type": "markdown",
   "metadata": {},
   "source": [
    "# Introduction\n",
    "In this project, we address a multiclass classification problem using the **K Nearest Neighbors (KNN)** algorithm, focusing on the `load_digits()` dataset provided by sklearn.datasets. <br>\n",
    "Our objective is to accurately classify **images of handwritten digits** based on their pixel values.<br>\n",
    "The task involves predicting the correct digit (0 through 9) represented by each 8x8 pixel image in the dataset."
   ]
  },
  {
   "cell_type": "markdown",
   "metadata": {},
   "source": [
    "## Imports"
   ]
  },
  {
   "cell_type": "code",
   "execution_count": 1,
   "metadata": {},
   "outputs": [],
   "source": [
    "from sklearn.model_selection import train_test_split\n",
    "from sklearn.preprocessing import MinMaxScaler\n",
    "from sklearn.metrics import classification_report, accuracy_score\n",
    "from tqdm import tqdm\n",
    "import numpy as np\n",
    "import pandas as pd\n",
    "from sklearn.datasets import load_digits\n",
    "from sklearn.neighbors import KNeighborsClassifier\n",
    "from sklearn.datasets import load_digits\n",
    "import matplotlib.pyplot as plt\n"
   ]
  },
  {
   "cell_type": "markdown",
   "metadata": {},
   "source": [
    "## Dataset Overview\n",
    "**Number of Instances:** The `load_digits()` dataset contains 1,797 images.<br>\n",
    "**Features:** Each image is described by 64 features, representing the grayscale pixel values of the 8x8 image.<br>\n",
    "**Labels:** There are 10 distinct labels (0 through 9), corresponding to each digit.\n"
   ]
  },
  {
   "cell_type": "markdown",
   "metadata": {},
   "source": [
    "### Graphical Representation"
   ]
  },
  {
   "cell_type": "code",
   "execution_count": 2,
   "metadata": {},
   "outputs": [
    {
     "data": {
      "image/png": "[encoded data removed]",
      "text/plain": [
       "<Figure size 800x400 with 10 Axes>"
      ]
     },
     "metadata": {},
     "output_type": "display_data"
    }
   ],
   "source": [
    "# Load the dataset\n",
    "digits = load_digits()\n",
    "\n",
    "# Set up the figure size and grid\n",
    "fig, axes = plt.subplots(nrows=2, ncols=5, figsize=(8, 4))\n",
    "fig.suptitle('Examples of Handwritten Digits from the Dataset')\n",
    "\n",
    "# Plot examples of the digits\n",
    "for ax, img, label in zip(axes.flat, digits.images, digits.target):\n",
    "    ax.imshow(img, cmap='gray')\n",
    "    ax.set_title(f'Label: {label}')\n",
    "    ax.axis('off')\n",
    "\n",
    "plt.tight_layout()\n",
    "plt.show()\n"
   ]
  },
  {
   "cell_type": "markdown",
   "metadata": {},
   "source": [
    "## Custom KNN algorithm\n",
    "\n",
    "This is the custom implementation of KNN algorithm. We do the following:\n",
    "\n",
    "- Finding k Nearest Neighbors (find_k_nearest_neighbors Method):\n",
    "This method calculates the Euklidean distance from x to all points in the training set. <br>\n",
    "It then sorts these points by distance and selects the indices of the k nearest points. <br>\n",
    "The method returns the indices of the k nearest neighbors.\n",
    "\n",
    "- Prediction (predict Method):\n",
    "For each sample in X, it finds the k nearest neighbors using the find_k_nearest_neighbors method.\n",
    "It then looks up the labels of these neighbors and assigns the most common label to the sample.\n",
    "This process is repeated for all samples in X, and the method returns an array of predictions."
   ]
  },
  {
   "cell_type": "code",
   "execution_count": 3,
   "metadata": {},
   "outputs": [],
   "source": [
    "class custom_KNN:\n",
    "    def __init__(self, k):\n",
    "        self.k = k\n",
    "        self.x_train, self.y_train = None, None\n",
    "\n",
    "    @staticmethod\n",
    "    def calculate_distance(x, y):\n",
    "        return np.linalg.norm(x - y)  # Euclidean distance\n",
    "\n",
    "    def find_k_nearest_neighbors(self, x):\n",
    "        distances = [self.calculate_distance(x, x_train) for x_train in self.x_train]\n",
    "        sorted_indices = np.argsort(distances)\n",
    "        k_nearest_neighbors = sorted_indices[:self.k]\n",
    "        return k_nearest_neighbors\n",
    "\n",
    "\n",
    "    def fit(self, x, y):\n",
    "        self.x_train = x\n",
    "        self.y_train = y\n",
    "\n",
    "    def predict(self, X):\n",
    "        n_samples = X.shape[0]\n",
    "        predictions = np.zeros(n_samples, dtype=int)\n",
    "\n",
    "        for i in range(n_samples):\n",
    "            # Find the k nearest neighbors for the current data point\n",
    "            neighbors = self.find_k_nearest_neighbors(X[i])\n",
    "\n",
    "            # Get the class labels of the k nearest neighbors\n",
    "            neighbor_labels = np.array([self.y_train[idx] for idx in neighbors])\n",
    "\n",
    "            # Assign the most common class label as the prediction\n",
    "            predictions[i] = np.argmax(np.bincount(neighbor_labels))\n",
    "\n",
    "        return predictions"
   ]
  },
  {
   "cell_type": "markdown",
   "metadata": {},
   "source": [
    "# Load dataset"
   ]
  },
  {
   "cell_type": "code",
   "execution_count": 4,
   "metadata": {},
   "outputs": [],
   "source": [
    "# Load the digits dataset \n",
    "digits = load_digits()\n",
    "data = pd.DataFrame(data=digits.data, columns=[f'pixel_{i}' for i in range(digits.data.shape[1])])\n",
    "data['Target'] = digits.target\n",
    "\n",
    "# Define features and target\n",
    "features = data.columns[:-1]  # Exclude the target column\n",
    "target = 'Target'\n",
    "\n",
    "# Split data into features (X) and target (y)\n",
    "X = data[features].values\n",
    "y = data[target].values\n",
    "\n",
    "# Split data into training and test sets\n",
    "X_train, X_test, y_train, y_test = train_test_split(X, y, test_size=0.2, random_state=42)\n",
    "\n",
    "# Initialize and fit the scaler on the training data\n",
    "scaler = MinMaxScaler(feature_range=(0, 1))\n",
    "scaler.fit(X_train)\n",
    "\n",
    "# Apply the scaler to the training and test data\n",
    "X_train_scaled = scaler.transform(X_train)\n",
    "X_test_scaled = scaler.transform(X_test)\n"
   ]
  },
  {
   "cell_type": "markdown",
   "metadata": {},
   "source": [
    "## Fit and Predict using the Custom KNN algorithm"
   ]
  },
  {
   "cell_type": "code",
   "execution_count": 5,
   "metadata": {},
   "outputs": [
    {
     "name": "stderr",
     "output_type": "stream",
     "text": [
      "  0%|          | 0/10 [00:00<?, ?it/s]"
     ]
    },
    {
     "name": "stderr",
     "output_type": "stream",
     "text": [
      " 10%|█         | 1/10 [00:03<00:33,  3.68s/it]"
     ]
    },
    {
     "name": "stdout",
     "output_type": "stream",
     "text": [
      "\n",
      "Training accuracy for k=1: 1.0\n",
      "Test accuracy for k=1: 0.9777777777777777\n"
     ]
    },
    {
     "name": "stderr",
     "output_type": "stream",
     "text": [
      " 20%|██        | 2/10 [00:07<00:29,  3.69s/it]"
     ]
    },
    {
     "name": "stdout",
     "output_type": "stream",
     "text": [
      "\n",
      "Training accuracy for k=2: 0.9909533750869868\n",
      "Test accuracy for k=2: 0.9805555555555555\n"
     ]
    },
    {
     "name": "stderr",
     "output_type": "stream",
     "text": [
      " 30%|███       | 3/10 [00:11<00:25,  3.68s/it]"
     ]
    },
    {
     "name": "stdout",
     "output_type": "stream",
     "text": [
      "\n",
      "Training accuracy for k=3: 0.9930410577592206\n",
      "Test accuracy for k=3: 0.9833333333333333\n"
     ]
    },
    {
     "name": "stderr",
     "output_type": "stream",
     "text": [
      " 40%|████      | 4/10 [00:14<00:21,  3.66s/it]"
     ]
    },
    {
     "name": "stdout",
     "output_type": "stream",
     "text": [
      "\n",
      "Training accuracy for k=4: 0.9923451635351427\n",
      "Test accuracy for k=4: 0.9805555555555555\n"
     ]
    },
    {
     "name": "stderr",
     "output_type": "stream",
     "text": [
      " 50%|█████     | 5/10 [00:18<00:18,  3.64s/it]"
     ]
    },
    {
     "name": "stdout",
     "output_type": "stream",
     "text": [
      "\n",
      "Training accuracy for k=5: 0.9895615866388309\n",
      "Test accuracy for k=5: 0.9861111111111112\n"
     ]
    },
    {
     "name": "stderr",
     "output_type": "stream",
     "text": [
      " 60%|██████    | 6/10 [00:21<00:14,  3.64s/it]"
     ]
    },
    {
     "name": "stdout",
     "output_type": "stream",
     "text": [
      "\n",
      "Training accuracy for k=6: 0.9895615866388309\n",
      "Test accuracy for k=6: 0.9888888888888889\n"
     ]
    },
    {
     "name": "stderr",
     "output_type": "stream",
     "text": [
      " 70%|███████   | 7/10 [00:25<00:10,  3.63s/it]"
     ]
    },
    {
     "name": "stdout",
     "output_type": "stream",
     "text": [
      "\n",
      "Training accuracy for k=7: 0.9909533750869868\n",
      "Test accuracy for k=7: 0.9888888888888889\n"
     ]
    },
    {
     "name": "stderr",
     "output_type": "stream",
     "text": [
      " 80%|████████  | 8/10 [00:29<00:07,  3.62s/it]"
     ]
    },
    {
     "name": "stdout",
     "output_type": "stream",
     "text": [
      "\n",
      "Training accuracy for k=8: 0.9867780097425192\n",
      "Test accuracy for k=8: 0.9861111111111112\n"
     ]
    },
    {
     "name": "stderr",
     "output_type": "stream",
     "text": [
      " 90%|█████████ | 9/10 [00:32<00:03,  3.63s/it]"
     ]
    },
    {
     "name": "stdout",
     "output_type": "stream",
     "text": [
      "\n",
      "Training accuracy for k=9: 0.9874739039665971\n",
      "Test accuracy for k=9: 0.9805555555555555\n"
     ]
    },
    {
     "name": "stderr",
     "output_type": "stream",
     "text": [
      "100%|██████████| 10/10 [00:36<00:00,  3.64s/it]"
     ]
    },
    {
     "name": "stdout",
     "output_type": "stream",
     "text": [
      "\n",
      "Training accuracy for k=10: 0.9826026443980515\n",
      "Test accuracy for k=10: 0.9833333333333333\n",
      "\n",
      "Best training accuracy: 0.9895615866388309\n",
      "Best test/dev accuracy: 0.9888888888888889\n",
      "Best K: 6\n"
     ]
    },
    {
     "name": "stderr",
     "output_type": "stream",
     "text": [
      "\n"
     ]
    },
    {
     "name": "stdout",
     "output_type": "stream",
     "text": [
      "Final Test accuracy: 0.9888888888888889\n",
      "\n",
      "Classification Report:\n",
      "              precision    recall  f1-score   support\n",
      "\n",
      "           0       1.00      1.00      1.00        33\n",
      "           1       1.00      1.00      1.00        28\n",
      "           2       1.00      1.00      1.00        33\n",
      "           3       1.00      1.00      1.00        34\n",
      "           4       0.98      1.00      0.99        46\n",
      "           5       0.98      0.98      0.98        47\n",
      "           6       0.97      1.00      0.99        35\n",
      "           7       1.00      0.97      0.99        34\n",
      "           8       1.00      1.00      1.00        30\n",
      "           9       0.97      0.95      0.96        40\n",
      "\n",
      "    accuracy                           0.99       360\n",
      "   macro avg       0.99      0.99      0.99       360\n",
      "weighted avg       0.99      0.99      0.99       360\n",
      "\n"
     ]
    }
   ],
   "source": [
    "best_dev_acc = 0.0\n",
    "best_train_acc = 0.0  # Initialize the best training accuracy\n",
    "best_k = 0\n",
    "best_clf = None\n",
    "\n",
    "# Iterate over different values of k to find the optimal one\n",
    "for k in tqdm(range(1, 11)):\n",
    "    knn = custom_KNN(k=k)  # knn object with current k\n",
    "    knn.fit(X_train, y_train)  # Fit with the training data\n",
    "    \n",
    "    # Predict on the TRAINING data to get training accuracy\n",
    "    train_preds = knn.predict(X_train)\n",
    "    train_acc = accuracy_score(y_train, train_preds)  # Calculate training accuracy\n",
    "    \n",
    "    # Predict on the TEST data\n",
    "    preds = knn.predict(X_test)\n",
    "    test_acc = accuracy_score(y_test, preds)  # Calculate test accuracy\n",
    "\n",
    "    print(f'\\nTraining accuracy for k={k}:', train_acc)\n",
    "    print(f'Test accuracy for k={k}:', test_acc)\n",
    "\n",
    "    # If the current test accuracy is higher than the previously best\n",
    "    if test_acc > best_dev_acc:\n",
    "        best_dev_acc = test_acc\n",
    "        best_train_acc = train_acc  # Update best training accuracy\n",
    "        best_k = k\n",
    "        best_clf = knn\n",
    "\n",
    "print('\\nBest training accuracy:', best_train_acc)\n",
    "print('Best test/dev accuracy:', best_dev_acc)\n",
    "print('Best K:', best_k)\n",
    "\n",
    "# Predict on the actual test data using the best classifier\n",
    "final_test_preds = best_clf.predict(X_test)\n",
    "print('Final Test accuracy:', accuracy_score(y_test, final_test_preds))\n",
    "\n",
    "# Classification report for the test set\n",
    "print('\\nClassification Report:')\n",
    "print(classification_report(y_test, final_test_preds))\n"
   ]
  },
  {
   "cell_type": "markdown",
   "metadata": {},
   "source": [
    "## Fit and Predict using KNNeighborsClassifier from scikit-learn"
   ]
  },
  {
   "cell_type": "code",
   "execution_count": 6,
   "metadata": {},
   "outputs": [
    {
     "name": "stdout",
     "output_type": "stream",
     "text": [
      "Training set accuracy: 0.9895615866388309\n",
      "Test set accuracy: 0.9861111111111112\n",
      "\n",
      "Classification Report for Test Set:\n",
      "              precision    recall  f1-score   support\n",
      "\n",
      "           0       1.00      1.00      1.00        33\n",
      "           1       1.00      1.00      1.00        28\n",
      "           2       1.00      1.00      1.00        33\n",
      "           3       1.00      1.00      1.00        34\n",
      "           4       0.98      1.00      0.99        46\n",
      "           5       0.98      0.96      0.97        47\n",
      "           6       0.97      1.00      0.99        35\n",
      "           7       1.00      0.97      0.99        34\n",
      "           8       1.00      1.00      1.00        30\n",
      "           9       0.95      0.95      0.95        40\n",
      "\n",
      "    accuracy                           0.99       360\n",
      "   macro avg       0.99      0.99      0.99       360\n",
      "weighted avg       0.99      0.99      0.99       360\n",
      "\n"
     ]
    }
   ],
   "source": [
    "# Initialize KNNClassifier\n",
    "knn_classifier = KNeighborsClassifier()\n",
    "\n",
    "# Fit the model on the training data\n",
    "knn_classifier.fit(X_train, y_train)\n",
    "\n",
    "# Predict on both the training and test sets\n",
    "train_preds = knn_classifier.predict(X_train)\n",
    "test_preds = knn_classifier.predict(X_test)\n",
    "\n",
    "# Calculate accuracy for both training and test sets\n",
    "train_accuracy = accuracy_score(y_train, train_preds)\n",
    "test_accuracy = accuracy_score(y_test, test_preds)\n",
    "\n",
    "print('Training set accuracy:', train_accuracy)\n",
    "print('Test set accuracy:', test_accuracy)\n",
    "\n",
    "# Classification report for the test set\n",
    "print('\\nClassification Report for Test Set:')\n",
    "print(classification_report(y_test, test_preds))\n"
   ]
  }
 ],
 "metadata": {
  "kernelspec": {
   "display_name": "base",
   "language": "python",
   "name": "python3"
  },
  "language_info": {
   "codemirror_mode": {
    "name": "ipython",
    "version": 3
   },
   "file_extension": ".py",
   "mimetype": "text/x-python",
   "name": "python",
   "nbconvert_exporter": "python",
   "pygments_lexer": "ipython3",
   "version": "3.11.5"
  }
 },
 "nbformat": 4,
 "nbformat_minor": 2
}

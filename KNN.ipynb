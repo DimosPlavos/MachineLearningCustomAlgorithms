{
 "cells": [
  {
   "cell_type": "markdown",
   "metadata": {},
   "source": [
    "## Imports"
   ]
  },
  {
   "cell_type": "code",
   "execution_count": 8,
   "metadata": {},
   "outputs": [],
   "source": [
    "from sklearn.model_selection import train_test_split\n",
    "from sklearn.preprocessing import MinMaxScaler\n",
    "from sklearn.metrics import classification_report, accuracy_score\n",
    "from tqdm import tqdm\n",
    "import numpy as np\n",
    "import pandas as pd\n",
    "from sklearn.datasets import load_digits\n",
    "from sklearn.neighbors import KNeighborsClassifier"
   ]
  },
  {
   "cell_type": "markdown",
   "metadata": {},
   "source": [
    "## Custom KNN algorithm"
   ]
  },
  {
   "cell_type": "code",
   "execution_count": 5,
   "metadata": {},
   "outputs": [],
   "source": [
    "class KNN:\n",
    "    def __init__(self, k):\n",
    "        self.k = k\n",
    "        self.x_train, self.y_train = None, None\n",
    "\n",
    "    @staticmethod\n",
    "    def calculate_distance(x, y):\n",
    "        return np.linalg.norm(x - y)  # Euclidean distance\n",
    "\n",
    "    def find_k_nearest_neighbors(self, x, version):\n",
    "        distances = [self.calculate_distance(x, x_train) for x_train in self.x_train]\n",
    "        sorted_indices = np.argsort(distances)\n",
    "        k_nearest_neighbors = sorted_indices[:self.k]\n",
    "        return k_nearest_neighbors\n",
    "\n",
    "    def fit(self, x, y):\n",
    "        self.x_train = x\n",
    "        self.y_train = y\n",
    "\n",
    "    def predict(self, X, k, version, distance_matrix):\n",
    "        n_samples = X.shape[0]\n",
    "        predictions = np.zeros(n_samples, dtype=int)\n",
    "\n",
    "        for i in range(n_samples):\n",
    "            # Find the k nearest neighbors for the current data point\n",
    "            neighbors = self.find_k_nearest_neighbors(X[i], version)\n",
    "\n",
    "            # Get the class labels of the k nearest neighbors\n",
    "            neighbor_labels = np.array([self.y_train[idx] for idx in neighbors])\n",
    "\n",
    "            # Assign the most common class label as the prediction\n",
    "            predictions[i] = np.argmax(np.bincount(neighbor_labels))\n",
    "\n",
    "            # Print the message in each iteration\n",
    "            # print(\"kNN for k = {}, data point # {}, predicted class = {} \".format(k, i + 1, predictions[i]))\n",
    "\n",
    "        return predictions"
   ]
  },
  {
   "cell_type": "markdown",
   "metadata": {},
   "source": [
    "# Load dataset"
   ]
  },
  {
   "cell_type": "code",
   "execution_count": 6,
   "metadata": {},
   "outputs": [],
   "source": [
    "def load_digits_data():\n",
    "    digits = load_digits()\n",
    "    data = pd.DataFrame(data=digits.data, columns=[f'pixel_{i}' for i in range(digits.data.shape[1])])\n",
    "    data['Target'] = digits.target\n",
    "    return data\n",
    "\n",
    "def load_data_subset():\n",
    "    digits_data = load_digits_data()\n",
    "\n",
    "    features = digits_data.columns[:-1].tolist()  # Exclude the target column\n",
    "    target = 'Target'\n",
    "\n",
    "    X = digits_data[features].values\n",
    "    y = digits_data[target].values\n",
    "\n",
    "    X_train, X_test, y_train, y_test = train_test_split(X, y, test_size=0.2, random_state=42)\n",
    "\n",
    "    # print(\"Train data array size: \", X_train.shape)\n",
    "    # print(\"Train truth array size: \", y_train.shape)\n",
    "    # print(\"Test data array size: \", X_test.shape)\n",
    "    # print(\"Test truth array size: \", y_test.shape)\n",
    "\n",
    "    return X_train, X_test, y_train, y_test\n",
    "\n",
    "# Load data using the Digits dataset\n",
    "X_train, X_test, y_train, y_test = load_data_subset()"
   ]
  },
  {
   "cell_type": "markdown",
   "metadata": {},
   "source": [
    "## Fit and Predict using the Custom KNN algorithm"
   ]
  },
  {
   "cell_type": "code",
   "execution_count": 7,
   "metadata": {},
   "outputs": [
    {
     "name": "stderr",
     "output_type": "stream",
     "text": [
      "100%|██████████| 10/10 [00:07<00:00,  1.37it/s]\n"
     ]
    },
    {
     "name": "stdout",
     "output_type": "stream",
     "text": [
      "\n",
      "Best dev accuracy: 0.9888888888888889\n",
      "Best K: 6\n",
      "Test accuracy: 0.9888888888888889\n",
      "\n",
      "Classification Report:\n",
      "              precision    recall  f1-score   support\n",
      "\n",
      "           0       1.00      1.00      1.00        33\n",
      "           1       1.00      1.00      1.00        28\n",
      "           2       1.00      1.00      1.00        33\n",
      "           3       1.00      1.00      1.00        34\n",
      "           4       0.98      1.00      0.99        46\n",
      "           5       0.98      0.98      0.98        47\n",
      "           6       0.97      1.00      0.99        35\n",
      "           7       1.00      0.97      0.99        34\n",
      "           8       1.00      1.00      1.00        30\n",
      "           9       0.97      0.95      0.96        40\n",
      "\n",
      "    accuracy                           0.99       360\n",
      "   macro avg       0.99      0.99      0.99       360\n",
      "weighted avg       0.99      0.99      0.99       360\n",
      "\n"
     ]
    }
   ],
   "source": [
    "best_dev_acc = 0.0\n",
    "best_k = 0\n",
    "best_clf = None\n",
    "\n",
    "# Iterate over different values of k\n",
    "for k in tqdm(range(1, 11)):\n",
    "    knn = KNN(k=k)  # knn object with current k\n",
    "    knn.fit(X_train, y_train)  # fit with current k in the TRAINING data...\n",
    "\n",
    "    # Use X_test and y_test instead of X_dev and y_dev for prediction\n",
    "    preds = knn.predict(X_test, k, 0, np.zeros((10, len(X_test))))  # predict with current k using the TEST data...\n",
    "    acc = accuracy_score(y_test, preds)  # calculate accuracy\n",
    "\n",
    "    # if the current accuracy is higher than the previously best...\n",
    "    if best_dev_acc == 0.0 or acc > best_dev_acc:\n",
    "        best_dev_acc = acc\n",
    "        best_k = k\n",
    "        best_clf = knn\n",
    "\n",
    "print('\\nBest dev accuracy:', best_dev_acc)\n",
    "print('Best K:', best_k)\n",
    "\n",
    "# Predict on the actual test data using the best classifier\n",
    "test_preds = best_clf.predict(X_test, best_k, 0, np.zeros((10, len(X_test))))\n",
    "print('Test accuracy:', accuracy_score(y_test, test_preds))\n",
    "\n",
    "# Print the classification report\n",
    "print('\\nClassification Report:')\n",
    "print(classification_report(y_test, test_preds))\n"
   ]
  },
  {
   "cell_type": "markdown",
   "metadata": {},
   "source": [
    "## Fit and Predict using KNeighborsClassifier from scikit-learn"
   ]
  },
  {
   "cell_type": "code",
   "execution_count": 2,
   "metadata": {},
   "outputs": [
    {
     "name": "stdout",
     "output_type": "stream",
     "text": [
      "Test accuracy: 0.9861111111111112\n",
      "\n",
      "Classification Report:\n",
      "              precision    recall  f1-score   support\n",
      "\n",
      "           0       1.00      1.00      1.00        33\n",
      "           1       1.00      1.00      1.00        28\n",
      "           2       1.00      1.00      1.00        33\n",
      "           3       1.00      1.00      1.00        34\n",
      "           4       0.98      1.00      0.99        46\n",
      "           5       0.98      0.96      0.97        47\n",
      "           6       0.97      1.00      0.99        35\n",
      "           7       1.00      0.97      0.99        34\n",
      "           8       1.00      1.00      1.00        30\n",
      "           9       0.95      0.95      0.95        40\n",
      "\n",
      "    accuracy                           0.99       360\n",
      "   macro avg       0.99      0.99      0.99       360\n",
      "weighted avg       0.99      0.99      0.99       360\n",
      "\n"
     ]
    }
   ],
   "source": [
    "# Initialize KNNClassifier\n",
    "knn_classifier = KNeighborsClassifier()\n",
    "\n",
    "# Fit the model\n",
    "knn_classifier.fit(X_train, y_train)\n",
    "\n",
    "# Predict on the test set\n",
    "test_preds = knn_classifier.predict(X_test)\n",
    "\n",
    "# Calculate accuracy\n",
    "test_accuracy = accuracy_score(y_test, test_preds)\n",
    "print('Test accuracy:', test_accuracy)\n",
    "\n",
    "# Generate classification report\n",
    "print('\\nClassification Report:')\n",
    "print(classification_report(y_test, test_preds))"
   ]
  }
 ],
 "metadata": {
  "kernelspec": {
   "display_name": "base",
   "language": "python",
   "name": "python3"
  },
  "language_info": {
   "codemirror_mode": {
    "name": "ipython",
    "version": 3
   },
   "file_extension": ".py",
   "mimetype": "text/x-python",
   "name": "python",
   "nbconvert_exporter": "python",
   "pygments_lexer": "ipython3",
   "version": "3.11.5"
  }
 },
 "nbformat": 4,
 "nbformat_minor": 2
}

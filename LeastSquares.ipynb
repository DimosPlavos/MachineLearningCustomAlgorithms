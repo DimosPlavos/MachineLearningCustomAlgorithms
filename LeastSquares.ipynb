{
 "cells": [
  {
   "cell_type": "markdown",
   "metadata": {},
   "source": [
    "## Imports "
   ]
  },
  {
   "cell_type": "code",
   "execution_count": 28,
   "metadata": {},
   "outputs": [],
   "source": [
    "import numpy as np\n",
    "from sklearn.datasets import load_digits\n",
    "from sklearn.model_selection import train_test_split\n",
    "from sklearn.metrics import accuracy_score,classification_report\n",
    "from sklearn.preprocessing import LabelBinarizer\n",
    "from sklearn.svm import LinearSVC"
   ]
  },
  {
   "cell_type": "markdown",
   "metadata": {},
   "source": [
    "## Custom Least Squares Classifier"
   ]
  },
  {
   "cell_type": "code",
   "execution_count": 29,
   "metadata": {},
   "outputs": [],
   "source": [
    "class LeastSquaresClassifier:\n",
    "    def __init__(self):\n",
    "        self.weights = None\n",
    "\n",
    "    def fit(self, X, y):\n",
    "        # Add a bias term to X\n",
    "        X_bias = np.c_[np.ones((X.shape[0], 1)), X]\n",
    "\n",
    "        # One-hot encode the target variable\n",
    "        lb = LabelBinarizer()\n",
    "        Y = lb.fit_transform(y)\n",
    "\n",
    "        # Calculate weights using the pseudo-inverse\n",
    "        self.weights = np.linalg.pinv(X_bias.T @ X_bias) @ X_bias.T @ Y\n",
    "\n",
    "    def predict(self, X):\n",
    "        # Add a bias term to X\n",
    "        X_bias = np.c_[np.ones((X.shape[0], 1)), X]\n",
    "\n",
    "        # Predict probabilities using the learned weights\n",
    "        probabilities = X_bias @ self.weights\n",
    "\n",
    "        # Convert probabilities to class labels\n",
    "        predictions = np.argmax(probabilities, axis=1)\n",
    "\n",
    "        return predictions"
   ]
  },
  {
   "cell_type": "markdown",
   "metadata": {},
   "source": [
    "## Load the Dataset "
   ]
  },
  {
   "cell_type": "code",
   "execution_count": 30,
   "metadata": {},
   "outputs": [],
   "source": [
    "# Load the Digits dataset\n",
    "digits = load_digits()\n",
    "X = digits.data\n",
    "y = digits.target\n",
    "\n",
    "\n",
    "# Split the data into training and testing sets\n",
    "X_train, X_test, y_train, y_test = train_test_split(X, y, test_size=0.2, random_state=42)"
   ]
  },
  {
   "cell_type": "markdown",
   "metadata": {},
   "source": [
    "## Traing and Testing using Custom Least Squares Classifier"
   ]
  },
  {
   "cell_type": "code",
   "execution_count": 31,
   "metadata": {},
   "outputs": [
    {
     "name": "stdout",
     "output_type": "stream",
     "text": [
      "Accuracy for Least Squares Classifier: 0.9444444444444444\n",
      "              precision    recall  f1-score   support\n",
      "\n",
      "           0       0.97      1.00      0.99        33\n",
      "           1       0.90      0.93      0.91        28\n",
      "           2       0.94      0.94      0.94        33\n",
      "           3       0.94      1.00      0.97        34\n",
      "           4       1.00      0.93      0.97        46\n",
      "           5       0.92      0.94      0.93        47\n",
      "           6       0.97      0.97      0.97        35\n",
      "           7       0.97      0.97      0.97        34\n",
      "           8       0.93      0.83      0.88        30\n",
      "           9       0.90      0.93      0.91        40\n",
      "\n",
      "    accuracy                           0.94       360\n",
      "   macro avg       0.94      0.94      0.94       360\n",
      "weighted avg       0.95      0.94      0.94       360\n",
      "\n"
     ]
    }
   ],
   "source": [
    "# Instantiate and fit the Least Squares classifier\n",
    "ls_classifier = LeastSquaresClassifier()\n",
    "ls_classifier.fit(X_train, y_train)\n",
    "\n",
    "# Make predictions on the test set\n",
    "y_pred = ls_classifier.predict(X_test)\n",
    "\n",
    "# Calculate and print accuracy\n",
    "accuracy_ls = accuracy_score(y_test, y_pred)\n",
    "print(\"Accuracy for Least Squares Classifier:\", accuracy_ls)\n",
    "\n",
    "# Print classification report\n",
    "print(classification_report(y_test, y_pred))"
   ]
  },
  {
   "cell_type": "markdown",
   "metadata": {},
   "source": [
    "## Traing and Testing using LinearSVC from scikit-learn"
   ]
  },
  {
   "cell_type": "code",
   "execution_count": 33,
   "metadata": {},
   "outputs": [
    {
     "name": "stdout",
     "output_type": "stream",
     "text": [
      "Accuracy for LinearSVC: 0.95\n",
      "\n",
      "Classification Report for LinearSVC:\n",
      "              precision    recall  f1-score   support\n",
      "\n",
      "           0       0.97      1.00      0.99        33\n",
      "           1       0.93      0.96      0.95        28\n",
      "           2       0.94      1.00      0.97        33\n",
      "           3       0.97      0.94      0.96        34\n",
      "           4       1.00      0.96      0.98        46\n",
      "           5       0.94      0.94      0.94        47\n",
      "           6       0.97      0.97      0.97        35\n",
      "           7       1.00      0.94      0.97        34\n",
      "           8       0.82      0.93      0.87        30\n",
      "           9       0.95      0.88      0.91        40\n",
      "\n",
      "    accuracy                           0.95       360\n",
      "   macro avg       0.95      0.95      0.95       360\n",
      "weighted avg       0.95      0.95      0.95       360\n",
      "\n"
     ]
    }
   ],
   "source": [
    "# Instantiate and fit scikit-learn's LinearSVC\n",
    "linear_svc_classifier = LinearSVC(loss='squared_hinge', max_iter=10000, dual=False)\n",
    "linear_svc_classifier.fit(X_train, y_train)\n",
    "\n",
    "# Make predictions on the test set\n",
    "y_pred_linear_svc = linear_svc_classifier.predict(X_test)\n",
    "\n",
    "# Calculate and print accuracy for LinearSVC\n",
    "accuracy_linear_svc = accuracy_score(y_test, y_pred_linear_svc)\n",
    "print(\"Accuracy for LinearSVC:\", accuracy_linear_svc)\n",
    "\n",
    "# Print classification report for LinearSVC\n",
    "print(\"\\nClassification Report for LinearSVC:\")\n",
    "print(classification_report(y_test, y_pred_linear_svc))"
   ]
  }
 ],
 "metadata": {
  "kernelspec": {
   "display_name": "base",
   "language": "python",
   "name": "python3"
  },
  "language_info": {
   "codemirror_mode": {
    "name": "ipython",
    "version": 3
   },
   "file_extension": ".py",
   "mimetype": "text/x-python",
   "name": "python",
   "nbconvert_exporter": "python",
   "pygments_lexer": "ipython3",
   "version": "3.11.5"
  }
 },
 "nbformat": 4,
 "nbformat_minor": 2
}
